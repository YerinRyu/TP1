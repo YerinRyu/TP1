{
 "cells": [
  {
   "cell_type": "code",
   "execution_count": 125,
   "metadata": {},
   "outputs": [],
   "source": [
    "import pickle\n",
    "import joblib\n",
    "import os\n",
    "import numpy as np\n",
    "\n",
    "model_file_path = \"/Users/yerin/AIB/project/TP1/model/mlp_model_accuracy_0.78.joblib\"\n",
    "model = joblib.load(model_file_path)\n",
    "\n",
    "scaler_path = '/Users/yerin/AIB/project/TP1/model/mlp_standard_scaler.joblib'\n",
    "scaler = joblib.load(scaler_path)\n",
    "\n",
    "data = np.array([i for i in range(27)]).reshape(1, -1)"
   ]
  },
  {
   "cell_type": "code",
   "execution_count": 126,
   "metadata": {},
   "outputs": [
    {
     "data": {
      "text/plain": [
       "array([[ 0,  1,  2,  3,  4,  5,  6,  7,  8,  9, 10, 11, 12, 13, 14, 15,\n",
       "        16, 17, 18, 19, 20, 21, 22, 23, 24, 25, 26]])"
      ]
     },
     "execution_count": 126,
     "metadata": {},
     "output_type": "execute_result"
    }
   ],
   "source": [
    "data"
   ]
  },
  {
   "cell_type": "code",
   "execution_count": 127,
   "metadata": {},
   "outputs": [
    {
     "data": {
      "text/html": [
       "<style>#sk-container-id-3 {color: black;}#sk-container-id-3 pre{padding: 0;}#sk-container-id-3 div.sk-toggleable {background-color: white;}#sk-container-id-3 label.sk-toggleable__label {cursor: pointer;display: block;width: 100%;margin-bottom: 0;padding: 0.3em;box-sizing: border-box;text-align: center;}#sk-container-id-3 label.sk-toggleable__label-arrow:before {content: \"▸\";float: left;margin-right: 0.25em;color: #696969;}#sk-container-id-3 label.sk-toggleable__label-arrow:hover:before {color: black;}#sk-container-id-3 div.sk-estimator:hover label.sk-toggleable__label-arrow:before {color: black;}#sk-container-id-3 div.sk-toggleable__content {max-height: 0;max-width: 0;overflow: hidden;text-align: left;background-color: #f0f8ff;}#sk-container-id-3 div.sk-toggleable__content pre {margin: 0.2em;color: black;border-radius: 0.25em;background-color: #f0f8ff;}#sk-container-id-3 input.sk-toggleable__control:checked~div.sk-toggleable__content {max-height: 200px;max-width: 100%;overflow: auto;}#sk-container-id-3 input.sk-toggleable__control:checked~label.sk-toggleable__label-arrow:before {content: \"▾\";}#sk-container-id-3 div.sk-estimator input.sk-toggleable__control:checked~label.sk-toggleable__label {background-color: #d4ebff;}#sk-container-id-3 div.sk-label input.sk-toggleable__control:checked~label.sk-toggleable__label {background-color: #d4ebff;}#sk-container-id-3 input.sk-hidden--visually {border: 0;clip: rect(1px 1px 1px 1px);clip: rect(1px, 1px, 1px, 1px);height: 1px;margin: -1px;overflow: hidden;padding: 0;position: absolute;width: 1px;}#sk-container-id-3 div.sk-estimator {font-family: monospace;background-color: #f0f8ff;border: 1px dotted black;border-radius: 0.25em;box-sizing: border-box;margin-bottom: 0.5em;}#sk-container-id-3 div.sk-estimator:hover {background-color: #d4ebff;}#sk-container-id-3 div.sk-parallel-item::after {content: \"\";width: 100%;border-bottom: 1px solid gray;flex-grow: 1;}#sk-container-id-3 div.sk-label:hover label.sk-toggleable__label {background-color: #d4ebff;}#sk-container-id-3 div.sk-serial::before {content: \"\";position: absolute;border-left: 1px solid gray;box-sizing: border-box;top: 0;bottom: 0;left: 50%;z-index: 0;}#sk-container-id-3 div.sk-serial {display: flex;flex-direction: column;align-items: center;background-color: white;padding-right: 0.2em;padding-left: 0.2em;position: relative;}#sk-container-id-3 div.sk-item {position: relative;z-index: 1;}#sk-container-id-3 div.sk-parallel {display: flex;align-items: stretch;justify-content: center;background-color: white;position: relative;}#sk-container-id-3 div.sk-item::before, #sk-container-id-3 div.sk-parallel-item::before {content: \"\";position: absolute;border-left: 1px solid gray;box-sizing: border-box;top: 0;bottom: 0;left: 50%;z-index: -1;}#sk-container-id-3 div.sk-parallel-item {display: flex;flex-direction: column;z-index: 1;position: relative;background-color: white;}#sk-container-id-3 div.sk-parallel-item:first-child::after {align-self: flex-end;width: 50%;}#sk-container-id-3 div.sk-parallel-item:last-child::after {align-self: flex-start;width: 50%;}#sk-container-id-3 div.sk-parallel-item:only-child::after {width: 0;}#sk-container-id-3 div.sk-dashed-wrapped {border: 1px dashed gray;margin: 0 0.4em 0.5em 0.4em;box-sizing: border-box;padding-bottom: 0.4em;background-color: white;}#sk-container-id-3 div.sk-label label {font-family: monospace;font-weight: bold;display: inline-block;line-height: 1.2em;}#sk-container-id-3 div.sk-label-container {text-align: center;}#sk-container-id-3 div.sk-container {/* jupyter's `normalize.less` sets `[hidden] { display: none; }` but bootstrap.min.css set `[hidden] { display: none !important; }` so we also need the `!important` here to be able to override the default hidden behavior on the sphinx rendered scikit-learn.org. See: https://github.com/scikit-learn/scikit-learn/issues/21755 */display: inline-block !important;position: relative;}#sk-container-id-3 div.sk-text-repr-fallback {display: none;}</style><div id=\"sk-container-id-3\" class=\"sk-top-container\"><div class=\"sk-text-repr-fallback\"><pre>StandardScaler()</pre><b>In a Jupyter environment, please rerun this cell to show the HTML representation or trust the notebook. <br />On GitHub, the HTML representation is unable to render, please try loading this page with nbviewer.org.</b></div><div class=\"sk-container\" hidden><div class=\"sk-item\"><div class=\"sk-estimator sk-toggleable\"><input class=\"sk-toggleable__control sk-hidden--visually\" id=\"sk-estimator-id-3\" type=\"checkbox\" checked><label for=\"sk-estimator-id-3\" class=\"sk-toggleable__label sk-toggleable__label-arrow\">StandardScaler</label><div class=\"sk-toggleable__content\"><pre>StandardScaler()</pre></div></div></div></div></div>"
      ],
      "text/plain": [
       "StandardScaler()"
      ]
     },
     "execution_count": 127,
     "metadata": {},
     "output_type": "execute_result"
    }
   ],
   "source": [
    "scaler"
   ]
  },
  {
   "cell_type": "code",
   "execution_count": 128,
   "metadata": {},
   "outputs": [],
   "source": [
    "scaled_data = scaler.transform(data)"
   ]
  },
  {
   "cell_type": "code",
   "execution_count": 130,
   "metadata": {},
   "outputs": [
    {
     "data": {
      "text/plain": [
       "'Other_Faults'"
      ]
     },
     "execution_count": 130,
     "metadata": {},
     "output_type": "execute_result"
    }
   ],
   "source": [
    "model.predict(scaled_data)[0]"
   ]
  },
  {
   "attachments": {},
   "cell_type": "markdown",
   "metadata": {},
   "source": [
    "---\n",
    "\n",
    "## DB TEST"
   ]
  },
  {
   "cell_type": "code",
   "execution_count": 4,
   "metadata": {},
   "outputs": [],
   "source": [
    "import sqlite3\n",
    "import os\n",
    "\n",
    "path = os.getcwd()\n",
    "\n",
    "def init_db():\n",
    "    conn = sqlite3.connect(path+'/DB/multi_result.db')\n",
    "    c = conn.cursor()\n",
    "    \n",
    "    create_table_query = '''\n",
    "    CREATE TABLE IF NOT EXISTS multi_result(\n",
    "                        X_Minimum REAL,\n",
    "                        X_Maximum REAL,\n",
    "                        Y_Minimum REAL,\n",
    "                        Y_Maximum REAL,\n",
    "                        Pixels_Areas REAL,\n",
    "                        X_Perimeter REAL,\n",
    "                        Y_Perimeter REAL,\n",
    "                        Sum_of_Luminosity REAL,\n",
    "                        Minimum_of_Luminosity REAL,\n",
    "                        Maximum_of_Luminosity REAL,\n",
    "                        Length_of_Conveyer REAL,\n",
    "                        TypeOfSteel_A300 REAL,\n",
    "                        TypeOfSteel_A400 REAL,\n",
    "                        Steel_Plate_Thickness REAL,\n",
    "                        Edges_Index REAL,\n",
    "                        Empty_Index REAL,\n",
    "                        Square_Index REAL,\n",
    "                        Outside_X_Index REAL,\n",
    "                        Edges_X_Index REAL,\n",
    "                        Edges_Y_Index REAL,\n",
    "                        Outside_Global_Index REAL,\n",
    "                        LogOfAreas REAL,\n",
    "                        Log_X_Index REAL,\n",
    "                        Log_Y_Index REAL,\n",
    "                        Orientation_Index REAL,\n",
    "                        Luminosity_Index REAL,\n",
    "                        SigmoidOfAreas REAL)'''\n",
    "\n",
    "    # 테이블이 이미 존재하는지 확인하고, 없다면 새로 생성\n",
    "    c.execute(create_table_query)\n",
    "\n",
    "    conn.commit()\n",
    "    conn.close()\n",
    "\n",
    "init_db()"
   ]
  },
  {
   "cell_type": "code",
   "execution_count": null,
   "metadata": {},
   "outputs": [],
   "source": [
    "def insert_data(col1, col2, col3, col4, col5, col6, col7, col8, col9, col10,\n",
    "                col11, col12, col13, col14, col15, col16, col17, col18, col19, col20,\n",
    "                col21, col22, col23, col24, col25, col26, col27):\n",
    "\n",
    "    # Get the current date and time in the desired format (YYYY-MM-DD HH:MM:SS)\n",
    "    date = datetime.now().strftime('%Y-%m-%d %H:%M:%S')\n",
    "\n",
    "    # Connect to the database\n",
    "    conn = sqlite3.connect(path+'/DB/multi_result.db')\n",
    "    c = conn.cursor()\n",
    "\n",
    "    # Define the INSERT statement\n",
    "    insert_query = '''\n",
    "        INSERT INTO multi_result (DATE, X_Minimum, X_Maximum, Y_Minimum, Y_Maximum, Pixels_Areas,\n",
    "        X_Perimeter, Y_Perimeter, Sum_of_Luminosity, Minimum_of_Luminosity, Maximum_of_Luminosity,\n",
    "        Length_of_Conveyer, TypeOfSteel_A300, TypeOfSteel_A400, Steel_Plate_Thickness, Edges_Index,\n",
    "        Empty_Index, Square_Index, Outside_X_Index, Edges_X_Index, Edges_Y_Index,\n",
    "        Outside_Global_Index, LogOfAreas, Log_X_Index, Log_Y_Index, Orientation_Index,\n",
    "        Luminosity_Index, SigmoidOfAreas)\n",
    "        VALUES (?, ?, ?, ?, ?, ?, ?, ?, ?, ?, ?, ?, ?, ?, ?, ?, ?, ?, ?, ?, ?, ?, ?, ?, ?, ?, ?, ?)\n",
    "    '''\n",
    "\n",
    "    # Tuple containing the values to be inserted\n",
    "    data = (date, col1, col2, col3, col4, col5, col6, col7, col8, col9, col10, col11,\n",
    "            col12, col13, col14, col15, col16, col17, col18, col19, col20, col21,\n",
    "            col22, col23, col24, col25, col26, col27)\n",
    "\n",
    "    # Execute the INSERT statement with the data\n",
    "    c.execute(insert_query, data)\n",
    "\n",
    "    # Commit the changes and close the connection\n",
    "    conn.commit()\n",
    "    conn.close()"
   ]
  },
  {
   "cell_type": "code",
   "execution_count": null,
   "metadata": {},
   "outputs": [],
   "source": [
    "def get_multi_results():\n",
    "    conn = sqlite3.connect(path+'/DB/multi_result.db')\n",
    "    c = conn.cursor()\n",
    "\n",
    "    # 데이터 조회\n",
    "    c.execute('SELECT * FROM multi_result')\n",
    "\n",
    "    results = c.fetchall()\n",
    "\n",
    "    conn.close()\n",
    "\n",
    "    return results"
   ]
  },
  {
   "cell_type": "code",
   "execution_count": 23,
   "metadata": {},
   "outputs": [],
   "source": [
    "def get_multi_results():\n",
    "    conn = sqlite3.connect(path+'/DB/multi_result.db')\n",
    "    c = conn.cursor()\n",
    "\n",
    "    # 데이터 조회\n",
    "    c.execute('SELECT * FROM multi_result')\n",
    "\n",
    "    results = c.fetchall()\n",
    "\n",
    "    conn.close()\n",
    "\n",
    "    return results"
   ]
  },
  {
   "cell_type": "code",
   "execution_count": 28,
   "metadata": {},
   "outputs": [
    {
     "data": {
      "text/plain": [
       "(4,\n",
       " '2023-07-27 11:29:20',\n",
       " 'Stains',\n",
       " 1.0,\n",
       " 2.0,\n",
       " 3.0,\n",
       " 3.0,\n",
       " 2.0,\n",
       " 212.0,\n",
       " 1.0,\n",
       " 1.0,\n",
       " 1.0,\n",
       " 1.0,\n",
       " 1.0,\n",
       " 1.0,\n",
       " 1.0,\n",
       " 1.0,\n",
       " 1.0,\n",
       " 1.0,\n",
       " 1.0,\n",
       " 1.0,\n",
       " 1.0,\n",
       " 11.0,\n",
       " 1.0,\n",
       " 1.0,\n",
       " 1.0,\n",
       " 1.0,\n",
       " 1.0,\n",
       " 11.0,\n",
       " 1.0)"
      ]
     },
     "execution_count": 28,
     "metadata": {},
     "output_type": "execute_result"
    }
   ],
   "source": [
    "results = get_multi_results()\n",
    "results[3]"
   ]
  },
  {
   "cell_type": "code",
   "execution_count": null,
   "metadata": {},
   "outputs": [],
   "source": []
  }
 ],
 "metadata": {
  "kernelspec": {
   "display_name": "tp1",
   "language": "python",
   "name": "python3"
  },
  "language_info": {
   "codemirror_mode": {
    "name": "ipython",
    "version": 3
   },
   "file_extension": ".py",
   "mimetype": "text/x-python",
   "name": "python",
   "nbconvert_exporter": "python",
   "pygments_lexer": "ipython3",
   "version": "3.8.17"
  },
  "orig_nbformat": 4
 },
 "nbformat": 4,
 "nbformat_minor": 2
}
