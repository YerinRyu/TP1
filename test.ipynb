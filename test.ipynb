{
 "cells": [
  {
   "cell_type": "code",
   "execution_count": 13,
   "metadata": {},
   "outputs": [],
   "source": [
    "import pandas as pd\n",
    "import os\n",
    "\n",
    "path = os.getcwd()\n",
    "\n",
    "# csv 파일 읽어오기\n",
    "df = pd.read_csv(path+'/dataset/binary_classification_data.csv')\n",
    "df = df.drop(df.columns[-1:], axis=1)\n",
    "\n",
    "# 10개의 row를 랜덤으로 선택\n",
    "df_sample = df.sample(n=10)\n",
    "\n",
    "# 새 csv 파일로 저장\n",
    "df_sample.to_csv(path+'/dataset/binary_test.csv', index=False)"
   ]
  },
  {
   "cell_type": "code",
   "execution_count": 14,
   "metadata": {},
   "outputs": [],
   "source": [
    "import pandas as pd\n",
    "import os\n",
    "\n",
    "path = os.getcwd()\n",
    "\n",
    "# csv 파일 읽어오기\n",
    "df = pd.read_csv(path+'/dataset/Regression_data.csv')\n",
    "df = df.drop(df.columns[-1:], axis=1)\n",
    "\n",
    "# 10개의 row를 랜덤으로 선택\n",
    "df_sample = df.sample(n=10)\n",
    "\n",
    "# 새 csv 파일로 저장\n",
    "df_sample.to_csv(path+'/dataset/regression_test.csv', index=False)"
   ]
  },
  {
   "cell_type": "code",
   "execution_count": 16,
   "metadata": {},
   "outputs": [],
   "source": [
    "import pandas as pd\n",
    "import os\n",
    "\n",
    "path = os.getcwd()\n",
    "\n",
    "# csv 파일 읽어오기\n",
    "df = pd.read_csv(path+'/dataset/mulit_classification_data.csv')\n",
    "df = df.drop(df.columns[-7:], axis=1)\n",
    "\n",
    "# 10개의 row를 랜덤으로 선택\n",
    "df_sample = df.sample(n=10)\n",
    "\n",
    "# 새 csv 파일로 저장\n",
    "df_sample.to_csv(path+'/dataset/multi_test.csv', index=False)"
   ]
  },
  {
   "cell_type": "code",
   "execution_count": null,
   "metadata": {},
   "outputs": [],
   "source": []
  }
 ],
 "metadata": {
  "kernelspec": {
   "display_name": "tp1",
   "language": "python",
   "name": "python3"
  },
  "language_info": {
   "codemirror_mode": {
    "name": "ipython",
    "version": 3
   },
   "file_extension": ".py",
   "mimetype": "text/x-python",
   "name": "python",
   "nbconvert_exporter": "python",
   "pygments_lexer": "ipython3",
   "version": "3.8.17"
  },
  "orig_nbformat": 4
 },
 "nbformat": 4,
 "nbformat_minor": 2
}
